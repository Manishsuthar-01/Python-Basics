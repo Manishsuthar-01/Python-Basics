{
  "nbformat": 4,
  "nbformat_minor": 0,
  "metadata": {
    "colab": {
      "provenance": []
    },
    "kernelspec": {
      "name": "python3",
      "display_name": "Python 3"
    },
    "language_info": {
      "name": "python"
    }
  },
  "cells": [
    {
      "cell_type": "markdown",
      "source": [
        "###THEORY"
      ],
      "metadata": {
        "id": "9oj1deMqDU9X"
      }
    },
    {
      "cell_type": "markdown",
      "source": [
        "1. What is Python, and why is it popular?"
      ],
      "metadata": {
        "id": "hh-2duZ_Df5X"
      }
    },
    {
      "cell_type": "markdown",
      "source": [
        "Python is a high-level, interpreted programming language known for its readability and simplicity.\n",
        "Reasons for its popularity:\n",
        "\n",
        "Easy to learn and use (clear syntax)\n",
        "\n",
        "Extensive libraries and community support\n",
        "\n",
        "Used in web development, data science, machine learning, automation, etc.\n",
        "\n",
        "Cross-platform and open-source"
      ],
      "metadata": {
        "id": "Ism_FuEfDicP"
      }
    },
    {
      "cell_type": "markdown",
      "source": [
        "2. What is an interpreter in Python?"
      ],
      "metadata": {
        "id": "UaltIw1xDk3n"
      }
    },
    {
      "cell_type": "markdown",
      "source": [
        "An interpreter is a program that reads and executes Python code line-by-line.\n",
        "Unlike a compiler, it does not convert the entire program into machine code at once."
      ],
      "metadata": {
        "id": "HmWafXEgDk__"
      }
    },
    {
      "cell_type": "markdown",
      "source": [
        "3. What are pre-defined keywords in Python?"
      ],
      "metadata": {
        "id": "I6PHp7BuDp5e"
      }
    },
    {
      "cell_type": "markdown",
      "source": [
        "Keywords are reserved words in Python that have special meanings.\n",
        "Examples: if, else, while, for, def, return, class, True, False\n",
        "They cannot be used as variable names."
      ],
      "metadata": {
        "id": "U_w7FQIoDqAn"
      }
    },
    {
      "cell_type": "markdown",
      "source": [
        "4. Can keywords be used as variable names?"
      ],
      "metadata": {
        "id": "9BxxiNUcDuBQ"
      }
    },
    {
      "cell_type": "markdown",
      "source": [
        "No, keywords cannot be used as variable names because they are reserved by the language for specific functionality.\n",
        "\n"
      ],
      "metadata": {
        "id": "m58D7PwODuIn"
      }
    },
    {
      "cell_type": "markdown",
      "source": [
        "5. What is mutability in Python?"
      ],
      "metadata": {
        "id": "0NECmZH5DzGn"
      }
    },
    {
      "cell_type": "markdown",
      "source": [
        "Mutability refers to whether an object’s value can be changed after creation.\n",
        "\n",
        "Mutable: Can be changed (e.g., list, dict)\n",
        "\n",
        "Immutable: Cannot be changed (e.g., tuple, string, int)"
      ],
      "metadata": {
        "id": "4cWqI511DzPQ"
      }
    },
    {
      "cell_type": "markdown",
      "source": [
        "6. Why are lists mutable, but tuples are immutable?"
      ],
      "metadata": {
        "id": "D-P5Wc5kD3f_"
      }
    },
    {
      "cell_type": "markdown",
      "source": [
        "Lists are designed for dynamic data, so they allow modification (e.g., adding/removing elements).\n",
        "\n",
        "Tuples are meant for fixed collections of items and are kept immutable for safety and performance (e.g., as dictionary keys)."
      ],
      "metadata": {
        "id": "G_bQz7h_D3oX"
      }
    },
    {
      "cell_type": "markdown",
      "source": [
        "7. What is the difference between “==” and “is” operators in Python?"
      ],
      "metadata": {
        "id": "9qYzR6IlD72m"
      }
    },
    {
      "cell_type": "markdown",
      "source": [
        "== checks for value equality (do both have the same content?).\n",
        "\n",
        "is checks for object identity (are both the same object in memory?).\n",
        "Example:"
      ],
      "metadata": {
        "id": "AQkatE0rD8AJ"
      }
    },
    {
      "cell_type": "code",
      "source": [
        "a = [1, 2]\n",
        "b = [1, 2]\n",
        "a == b  # True (same content)\n",
        "a is b  # False (different objects)\n"
      ],
      "metadata": {
        "id": "cm0pvKTuECsP"
      },
      "execution_count": null,
      "outputs": []
    },
    {
      "cell_type": "markdown",
      "source": [
        "8. What are logical operators in Python?"
      ],
      "metadata": {
        "id": "Q4ti0jsyD_6Z"
      }
    },
    {
      "cell_type": "markdown",
      "source": [
        "Logical operators are used to combine boolean expressions:\n",
        "\n",
        "and – True if both conditions are true\n",
        "\n",
        "or – True if at least one condition is true\n",
        "\n",
        "not – Inverts the truth value"
      ],
      "metadata": {
        "id": "DLeCX-E0EFzI"
      }
    },
    {
      "cell_type": "markdown",
      "source": [
        "9. What is type casting in Python?"
      ],
      "metadata": {
        "id": "JQp7E-3PEIL3"
      }
    },
    {
      "cell_type": "markdown",
      "source": [
        "Type casting is converting a value from one data type to another.\n",
        "Example:"
      ],
      "metadata": {
        "id": "UmlDGEanEIcX"
      }
    },
    {
      "cell_type": "code",
      "source": [
        "x = \"10\"\n",
        "y = int(x)  # Now y is an integer\n"
      ],
      "metadata": {
        "id": "CPgQfPKyEMse"
      },
      "execution_count": null,
      "outputs": []
    },
    {
      "cell_type": "markdown",
      "source": [
        "10. What is the difference between implicit and explicit type casting?"
      ],
      "metadata": {
        "id": "4RLzORONEN5v"
      }
    },
    {
      "cell_type": "markdown",
      "source": [
        "Implicit Casting: Python automatically converts types\n",
        "Example: int + float = float\n",
        "\n",
        "Explicit Casting: You manually convert the type\n",
        "Example: int(\"5\") or str(10)"
      ],
      "metadata": {
        "id": "TcQ0Tz-IEOBu"
      }
    },
    {
      "cell_type": "markdown",
      "source": [
        "11. What is the purpose of conditional statements in Python?"
      ],
      "metadata": {
        "id": "-OGi5KhCESG-"
      }
    },
    {
      "cell_type": "markdown",
      "source": [
        "Conditional statements allow your program to make decisions based on conditions.\n",
        "They control the flow of execution.\n",
        "Examples: if, elif, else"
      ],
      "metadata": {
        "id": "kZmhnZs2ESPw"
      }
    },
    {
      "cell_type": "markdown",
      "source": [
        "12. How does the elif statement work?"
      ],
      "metadata": {
        "id": "kZWg95wfEWVH"
      }
    },
    {
      "cell_type": "markdown",
      "source": [
        "elif (short for \"else if\") allows you to check multiple conditions one after another.\n",
        "Example:"
      ],
      "metadata": {
        "id": "Mr_b5oaxEWdY"
      }
    },
    {
      "cell_type": "code",
      "source": [
        "x = 10\n",
        "if x > 20:\n",
        "    print(\"Greater\")\n",
        "elif x == 10:\n",
        "    print(\"Equal\")\n",
        "else:\n",
        "    print(\"Less\")\n"
      ],
      "metadata": {
        "id": "szijLgHOEZ1P"
      },
      "execution_count": null,
      "outputs": []
    },
    {
      "cell_type": "markdown",
      "source": [
        "13. What is the difference between for and while loops?"
      ],
      "metadata": {
        "id": "DRCmyIM4EbqZ"
      }
    },
    {
      "cell_type": "markdown",
      "source": [
        "for loop is used when you know how many times to loop (e.g., iterating over a list).\n",
        "\n",
        "while loop is used when you don't know how many times, but loop until a condition becomes false."
      ],
      "metadata": {
        "id": "bJj-3fcuEby2"
      }
    },
    {
      "cell_type": "markdown",
      "source": [
        "14. Describe a scenario where a while loop is more suitable than a for loop."
      ],
      "metadata": {
        "id": "L-v5tWDiEgZg"
      }
    },
    {
      "cell_type": "markdown",
      "source": [
        "Example Scenario: Asking the user for a password until it's correct.\n",
        "You don’t know how many attempts the user will make, so use a while loop:"
      ],
      "metadata": {
        "id": "vkmKpdBtEgi_"
      }
    },
    {
      "cell_type": "code",
      "source": [
        "password = \"\"\n",
        "while password != \"admin123\":\n",
        "    password = input(\"Enter password: \")\n",
        "print(\"Access granted\")\n"
      ],
      "metadata": {
        "id": "3f5Q1lk0EkYg"
      },
      "execution_count": null,
      "outputs": []
    },
    {
      "cell_type": "markdown",
      "source": [
        "###PRACTICAL"
      ],
      "metadata": {
        "id": "frfZs-aREoCg"
      }
    },
    {
      "cell_type": "markdown",
      "source": [
        "1. Write a Python program to print \"Hello, World!\""
      ],
      "metadata": {
        "id": "IjjQIZEwEsTQ"
      }
    },
    {
      "cell_type": "code",
      "source": [
        "# Program 1\n",
        "print(\"Hello, World!\")\n"
      ],
      "metadata": {
        "id": "sLMKsuieEu-D"
      },
      "execution_count": null,
      "outputs": []
    },
    {
      "cell_type": "markdown",
      "source": [
        "2. Write a Python program that displays your name and age"
      ],
      "metadata": {
        "id": "Bk36AKWmEwcO"
      }
    },
    {
      "cell_type": "code",
      "source": [
        "# Program 2\n",
        "name = \"Manish\"\n",
        "age = 25\n",
        "print(\"Name:\", name)\n",
        "print(\"Age:\", age)\n"
      ],
      "metadata": {
        "id": "iiN4KxS3EyLX"
      },
      "execution_count": null,
      "outputs": []
    },
    {
      "cell_type": "markdown",
      "source": [
        "3. Write code to print all the pre-defined keywords in Python using the keyword library"
      ],
      "metadata": {
        "id": "MLZDTl7VE0rH"
      }
    },
    {
      "cell_type": "code",
      "source": [
        "# Program 3\n",
        "import keyword\n",
        "print(\"Python Keywords:\")\n",
        "print(keyword.kwlist)\n"
      ],
      "metadata": {
        "id": "SNyZTQ6TE3ej"
      },
      "execution_count": null,
      "outputs": []
    },
    {
      "cell_type": "markdown",
      "source": [
        "4. Write a program that checks if a given word is a Python keyword"
      ],
      "metadata": {
        "id": "S_rJ9VeCE4-i"
      }
    },
    {
      "cell_type": "code",
      "source": [
        "# Program 4\n",
        "import keyword\n",
        "\n",
        "word = input(\"Enter a word to check if it's a Python keyword: \")\n",
        "if keyword.iskeyword(word):\n",
        "    print(f\"'{word}' is a Python keyword.\")\n",
        "else:\n",
        "    print(f\"'{word}' is not a Python keyword.\")\n"
      ],
      "metadata": {
        "id": "Xvz1Y-XhE7VW"
      },
      "execution_count": null,
      "outputs": []
    },
    {
      "cell_type": "markdown",
      "source": [
        "5. Create a list and tuple in Python, and demonstrate how attempting to change an element works differently for each"
      ],
      "metadata": {
        "id": "p9JEk7nuE-WH"
      }
    },
    {
      "cell_type": "code",
      "source": [
        "# Program 8\n",
        "my_list = [1, 2, 3]\n",
        "my_tuple = (1, 2, 3)\n",
        "\n",
        "# Modify list\n",
        "my_list[0] = 10\n",
        "print(\"Modified list:\", my_list)\n",
        "\n",
        "# Try modifying tuple (will raise an error)\n",
        "try:\n",
        "    my_tuple[0] = 10\n",
        "except TypeError as e:\n",
        "    print(\"Error modifying tuple:\", e)\n"
      ],
      "metadata": {
        "id": "0I9emYDcE9in"
      },
      "execution_count": null,
      "outputs": []
    },
    {
      "cell_type": "markdown",
      "source": [
        "6. Write a function to demonstrate the behavior of mutable and immutable arguments"
      ],
      "metadata": {
        "id": "EfwfEVdrFoT-"
      }
    },
    {
      "cell_type": "code",
      "source": [
        "# Program 5\n",
        "def modify_data(a, b):\n",
        "    a = a + 10  # int is immutable\n",
        "    b.append(4)  # list is mutable\n",
        "    print(\"Inside function:\", a, b)\n",
        "\n",
        "x = 5\n",
        "y = [1, 2, 3]\n",
        "modify_data(x, y)\n",
        "print(\"Outside function:\", x, y)\n"
      ],
      "metadata": {
        "id": "Hs_eGBYBFylW"
      },
      "execution_count": null,
      "outputs": []
    },
    {
      "cell_type": "markdown",
      "source": [
        "7. Write a program that performs basic arithmetic operations on two user-input numbers"
      ],
      "metadata": {
        "id": "ExbXMdi1F0DX"
      }
    },
    {
      "cell_type": "code",
      "source": [
        "# Program 6\n",
        "a = float(input(\"Enter first number: \"))\n",
        "b = float(input(\"Enter second number: \"))\n",
        "\n",
        "print(\"Addition:\", a + b)\n",
        "print(\"Subtraction:\", a - b)\n",
        "print(\"Multiplication:\", a * b)\n",
        "print(\"Division:\", a / b if b != 0 else \"Cannot divide by zero\")\n"
      ],
      "metadata": {
        "id": "GV9xz1WBF3fZ"
      },
      "execution_count": null,
      "outputs": []
    },
    {
      "cell_type": "markdown",
      "source": [
        "8. Write a program to demonstrate the use of logical operators"
      ],
      "metadata": {
        "id": "BCchQAWTF6_3"
      }
    },
    {
      "cell_type": "code",
      "source": [
        "# Program 7\n",
        "x = 10\n",
        "y = 5\n",
        "\n",
        "print(\"x > 5 and y > 2:\", x > 5 and y > 2)\n",
        "print(\"x > 10 or y < 10:\", x > 10 or y < 10)\n",
        "print(\"not(x == y):\", not(x == y))\n"
      ],
      "metadata": {
        "id": "GNgtlARTF-_G"
      },
      "execution_count": null,
      "outputs": []
    },
    {
      "cell_type": "markdown",
      "source": [
        "9. Write a Python program to convert user input from string to integer, float, and boolean types"
      ],
      "metadata": {
        "id": "i3cOmmz2GDxf"
      }
    },
    {
      "cell_type": "code",
      "source": [
        "# Program 9\n",
        "value = input(\"Enter a value: \")\n",
        "\n",
        "int_val = int(value)\n",
        "float_val = float(value)\n",
        "bool_val = bool(value)\n",
        "\n",
        "print(\"Integer:\", int_val)\n",
        "print(\"Float:\", float_val)\n",
        "print(\"Boolean:\", bool_val)\n"
      ],
      "metadata": {
        "id": "-6YKTPdfGG0v"
      },
      "execution_count": null,
      "outputs": []
    },
    {
      "cell_type": "markdown",
      "source": [
        "10. Write code to demonstrate type casting with list elements"
      ],
      "metadata": {
        "id": "YwzFbNZMGIQ6"
      }
    },
    {
      "cell_type": "code",
      "source": [
        "# Program 10\n",
        "str_list = ['1', '2', '3']\n",
        "int_list = [int(i) for i in str_list]\n",
        "print(\"Original list (str):\", str_list)\n",
        "print(\"Converted list (int):\", int_list)\n"
      ],
      "metadata": {
        "id": "qvG_8mjDGLXH"
      },
      "execution_count": null,
      "outputs": []
    },
    {
      "cell_type": "markdown",
      "source": [
        "11. Write a program that checks if a number is positive, negative, or zero"
      ],
      "metadata": {
        "id": "zKDnEAq6GMye"
      }
    },
    {
      "cell_type": "code",
      "source": [
        "# Program 11\n",
        "num = float(input(\"Enter a number: \"))\n",
        "if num > 0:\n",
        "    print(\"Positive number\")\n",
        "elif num < 0:\n",
        "    print(\"Negative number\")\n",
        "else:\n",
        "    print(\"Zero\")\n"
      ],
      "metadata": {
        "id": "wp7o-G8aGQMO"
      },
      "execution_count": null,
      "outputs": []
    },
    {
      "cell_type": "markdown",
      "source": [
        "12. Write a for loop to print numbers from 1 to 10"
      ],
      "metadata": {
        "id": "XzSi3XyZGQq3"
      }
    },
    {
      "cell_type": "code",
      "source": [
        "# Program 12\n",
        "for i in range(1, 11):\n",
        "    print(i)\n"
      ],
      "metadata": {
        "id": "MBjllnLWGTVW"
      },
      "execution_count": null,
      "outputs": []
    },
    {
      "cell_type": "markdown",
      "source": [
        "13. Write a Python program to find the sum of all even numbers between 1 and 50"
      ],
      "metadata": {
        "id": "jVvJD3a_GVEI"
      }
    },
    {
      "cell_type": "code",
      "source": [
        "# Program 13\n",
        "total = 0\n",
        "for i in range(1, 51):\n",
        "    if i % 2 == 0:\n",
        "        total += i\n",
        "print(\"Sum of even numbers between 1 and 50:\", total)\n"
      ],
      "metadata": {
        "id": "GBneo5FNGWuw"
      },
      "execution_count": null,
      "outputs": []
    },
    {
      "cell_type": "markdown",
      "source": [
        "14. Write a program to reverse a string using a while loop"
      ],
      "metadata": {
        "id": "zPxd97XUGuuO"
      }
    },
    {
      "cell_type": "code",
      "source": [
        "# Program 14\n",
        "s = input(\"Enter a string: \")\n",
        "reversed_str = ''\n",
        "i = len(s) - 1\n",
        "\n",
        "while i >= 0:\n",
        "    reversed_str += s[i]\n",
        "    i -= 1\n",
        "\n",
        "print(\"Reversed string:\", reversed_str)\n"
      ],
      "metadata": {
        "id": "cVVXbodtGx8m"
      },
      "execution_count": null,
      "outputs": []
    },
    {
      "cell_type": "markdown",
      "source": [
        "15. Write a Python program to calculate the factorial of a number provided by the user using a while loop"
      ],
      "metadata": {
        "id": "FDesDZELGzuP"
      }
    },
    {
      "cell_type": "code",
      "source": [
        "# Program 15\n",
        "num = int(input(\"Enter a number: \"))\n",
        "fact = 1\n",
        "i = 1\n",
        "\n",
        "while i <= num:\n",
        "    fact *= i\n",
        "    i += 1\n",
        "\n",
        "print(f\"Factorial of {num} is {fact}\")\n"
      ],
      "metadata": {
        "id": "-BmrZhEOG17-"
      },
      "execution_count": null,
      "outputs": []
    }
  ]
}